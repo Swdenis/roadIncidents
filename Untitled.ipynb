{
 "cells": [
  {
   "cell_type": "markdown",
   "metadata": {},
   "source": [
    "Does higher share of urban population lead to larger road mortality?"
   ]
  },
  {
   "cell_type": "markdown",
   "metadata": {},
   "source": [
    "higher urban population => more cars and bigger density => more deaths on the roads"
   ]
  },
  {
   "cell_type": "code",
   "execution_count": 54,
   "metadata": {},
   "outputs": [],
   "source": [
    "import warnings\n",
    "import numpy as np\n",
    "warnings.filterwarnings('ignore')\n",
    "import pandas as pd\n",
    "from plotnine import *\n",
    "import statsmodels.api as sm\n",
    "import statsmodels.formula.api as smf\n",
    "import os\n",
    "import sys\n",
    "from stargazer.stargazer import Stargazer\n",
    "from IPython.core.display import HTML"
   ]
  },
  {
   "cell_type": "code",
   "execution_count": 55,
   "metadata": {},
   "outputs": [
    {
     "name": "stdout",
     "output_type": "stream",
     "text": [
      "        Entity Code  Year  \\\n",
      "0  Afghanistan  AFG  1990   \n",
      "1  Afghanistan  AFG  1991   \n",
      "2  Afghanistan  AFG  1992   \n",
      "3  Afghanistan  AFG  1993   \n",
      "4  Afghanistan  AFG  1994   \n",
      "\n",
      "   Deaths - Road injuries - Sex: Both - Age: Age-standardized (Rate)  \n",
      "0                                          52.262263                  \n",
      "1                                          52.597034                  \n",
      "2                                          52.484181                  \n",
      "3                                          54.153250                  \n",
      "4                                          57.190504                  \n"
     ]
    }
   ],
   "source": [
    "#read the data\n",
    "urban_population = pd.read_csv(\"54950768-904f-4ec9-bd47-342e9e801985_Data.csv\")\n",
    "road_incidents = pd.read_csv(\"death-rates-road-incidents.csv\")\n",
    "print(road_incidents.head())"
   ]
  },
  {
   "cell_type": "code",
   "execution_count": 56,
   "metadata": {},
   "outputs": [
    {
     "name": "stdout",
     "output_type": "stream",
     "text": [
      "   Time Time Code         Country Name Country Code  \\\n",
      "0  1992    YR1992          Afghanistan          AFG   \n",
      "1  1992    YR1992              Albania          ALB   \n",
      "2  1992    YR1992              Algeria          DZA   \n",
      "3  1992    YR1992       American Samoa          ASM   \n",
      "4  1992    YR1992              Andorra          AND   \n",
      "5  1992    YR1992               Angola          AGO   \n",
      "6  1992    YR1992  Antigua and Barbuda          ATG   \n",
      "7  1992    YR1992            Argentina          ARG   \n",
      "8  1992    YR1992              Armenia          ARM   \n",
      "9  1992    YR1992                Aruba          ABW   \n",
      "\n",
      "  Urban population (% of total population) [SP.URB.TOTL.IN.ZS]  \n",
      "0                                             21.355            \n",
      "1                                             37.249            \n",
      "2                                             53.657            \n",
      "3                                             82.789            \n",
      "4                                             94.324            \n",
      "5                                             40.039            \n",
      "6                                             35.085            \n",
      "7                                             87.542            \n",
      "8                                             66.878            \n",
      "9                                             49.998            \n"
     ]
    }
   ],
   "source": [
    "print(urban_population.head(10))"
   ]
  },
  {
   "cell_type": "code",
   "execution_count": 57,
   "metadata": {},
   "outputs": [
    {
     "data": {
      "text/plain": [
       "Index(['Time', 'Time Code', 'Country Name', 'Country Code',\n",
       "       'Urban population (% of total population) [SP.URB.TOTL.IN.ZS]'],\n",
       "      dtype='object')"
      ]
     },
     "execution_count": 57,
     "metadata": {},
     "output_type": "execute_result"
    }
   ],
   "source": [
    "urban_population.columns"
   ]
  },
  {
   "cell_type": "code",
   "execution_count": 58,
   "metadata": {},
   "outputs": [
    {
     "data": {
      "text/plain": [
       "Index(['Entity', 'Code', 'Year',\n",
       "       'Deaths - Road injuries - Sex: Both - Age: Age-standardized (Rate)'],\n",
       "      dtype='object')"
      ]
     },
     "execution_count": 58,
     "metadata": {},
     "output_type": "execute_result"
    }
   ],
   "source": [
    "road_incidents.columns"
   ]
  },
  {
   "cell_type": "code",
   "execution_count": 59,
   "metadata": {},
   "outputs": [],
   "source": [
    "cols_to_drop = ['Time Code']\n",
    "urban_population.drop(columns=cols_to_drop, axis=1, inplace=True)"
   ]
  },
  {
   "cell_type": "code",
   "execution_count": 60,
   "metadata": {},
   "outputs": [
    {
     "data": {
      "text/html": [
       "<div>\n",
       "<style scoped>\n",
       "    .dataframe tbody tr th:only-of-type {\n",
       "        vertical-align: middle;\n",
       "    }\n",
       "\n",
       "    .dataframe tbody tr th {\n",
       "        vertical-align: top;\n",
       "    }\n",
       "\n",
       "    .dataframe thead th {\n",
       "        text-align: right;\n",
       "    }\n",
       "</style>\n",
       "<table border=\"1\" class=\"dataframe\">\n",
       "  <thead>\n",
       "    <tr style=\"text-align: right;\">\n",
       "      <th></th>\n",
       "      <th>Time</th>\n",
       "      <th>Country Name</th>\n",
       "      <th>Country Code</th>\n",
       "      <th>Urban population (% of total population) [SP.URB.TOTL.IN.ZS]</th>\n",
       "    </tr>\n",
       "  </thead>\n",
       "  <tbody>\n",
       "    <tr>\n",
       "      <th>0</th>\n",
       "      <td>1992</td>\n",
       "      <td>Afghanistan</td>\n",
       "      <td>AFG</td>\n",
       "      <td>21.355</td>\n",
       "    </tr>\n",
       "    <tr>\n",
       "      <th>1</th>\n",
       "      <td>1992</td>\n",
       "      <td>Albania</td>\n",
       "      <td>ALB</td>\n",
       "      <td>37.249</td>\n",
       "    </tr>\n",
       "    <tr>\n",
       "      <th>2</th>\n",
       "      <td>1992</td>\n",
       "      <td>Algeria</td>\n",
       "      <td>DZA</td>\n",
       "      <td>53.657</td>\n",
       "    </tr>\n",
       "    <tr>\n",
       "      <th>3</th>\n",
       "      <td>1992</td>\n",
       "      <td>American Samoa</td>\n",
       "      <td>ASM</td>\n",
       "      <td>82.789</td>\n",
       "    </tr>\n",
       "    <tr>\n",
       "      <th>4</th>\n",
       "      <td>1992</td>\n",
       "      <td>Andorra</td>\n",
       "      <td>AND</td>\n",
       "      <td>94.324</td>\n",
       "    </tr>\n",
       "  </tbody>\n",
       "</table>\n",
       "</div>"
      ],
      "text/plain": [
       "   Time    Country Name Country Code  \\\n",
       "0  1992     Afghanistan          AFG   \n",
       "1  1992         Albania          ALB   \n",
       "2  1992         Algeria          DZA   \n",
       "3  1992  American Samoa          ASM   \n",
       "4  1992         Andorra          AND   \n",
       "\n",
       "  Urban population (% of total population) [SP.URB.TOTL.IN.ZS]  \n",
       "0                                             21.355            \n",
       "1                                             37.249            \n",
       "2                                             53.657            \n",
       "3                                             82.789            \n",
       "4                                             94.324            "
      ]
     },
     "execution_count": 60,
     "metadata": {},
     "output_type": "execute_result"
    }
   ],
   "source": [
    "urban_population.head()"
   ]
  },
  {
   "cell_type": "code",
   "execution_count": 61,
   "metadata": {},
   "outputs": [],
   "source": [
    "cols = {'Urban population (% of total population) [SP.URB.TOTL.IN.ZS]':'urbpop',\n",
    "          'Time':'year',\n",
    "        'Country Name':'country',\n",
    "           'Country Code':'ccode'}\n",
    "urban_population.rename(columns=cols, inplace=True)"
   ]
  },
  {
   "cell_type": "code",
   "execution_count": 62,
   "metadata": {},
   "outputs": [
    {
     "data": {
      "text/plain": [
       "Index(['year', 'country', 'ccode', 'urbpop'], dtype='object')"
      ]
     },
     "execution_count": 62,
     "metadata": {},
     "output_type": "execute_result"
    }
   ],
   "source": [
    "urban_population.columns"
   ]
  },
  {
   "cell_type": "code",
   "execution_count": 63,
   "metadata": {},
   "outputs": [
    {
     "data": {
      "text/plain": [
       "Index(['Entity', 'Code', 'Year',\n",
       "       'Deaths - Road injuries - Sex: Both - Age: Age-standardized (Rate)'],\n",
       "      dtype='object')"
      ]
     },
     "execution_count": 63,
     "metadata": {},
     "output_type": "execute_result"
    }
   ],
   "source": [
    "road_incidents.columns"
   ]
  },
  {
   "cell_type": "code",
   "execution_count": 64,
   "metadata": {},
   "outputs": [],
   "source": [
    "cols = {'Deaths - Road injuries - Sex: Both - Age: Age-standardized (Rate)':'incidents',\n",
    "          'Year':'year',\n",
    "        'Entity':'country',\n",
    "           'Code':'ccode'}\n",
    "road_incidents.rename(columns=cols, inplace=True)"
   ]
  },
  {
   "cell_type": "code",
   "execution_count": 65,
   "metadata": {},
   "outputs": [
    {
     "data": {
      "text/plain": [
       "Index(['country', 'ccode', 'year', 'incidents'], dtype='object')"
      ]
     },
     "execution_count": 65,
     "metadata": {},
     "output_type": "execute_result"
    }
   ],
   "source": [
    "road_incidents.columns"
   ]
  },
  {
   "cell_type": "code",
   "execution_count": 66,
   "metadata": {},
   "outputs": [
    {
     "data": {
      "text/html": [
       "<div>\n",
       "<style scoped>\n",
       "    .dataframe tbody tr th:only-of-type {\n",
       "        vertical-align: middle;\n",
       "    }\n",
       "\n",
       "    .dataframe tbody tr th {\n",
       "        vertical-align: top;\n",
       "    }\n",
       "\n",
       "    .dataframe thead th {\n",
       "        text-align: right;\n",
       "    }\n",
       "</style>\n",
       "<table border=\"1\" class=\"dataframe\">\n",
       "  <thead>\n",
       "    <tr style=\"text-align: right;\">\n",
       "      <th></th>\n",
       "      <th>year</th>\n",
       "      <th>country</th>\n",
       "      <th>ccode</th>\n",
       "      <th>urbpop</th>\n",
       "    </tr>\n",
       "  </thead>\n",
       "  <tbody>\n",
       "    <tr>\n",
       "      <th>5854</th>\n",
       "      <td>2018</td>\n",
       "      <td>Virgin Islands (U.S.)</td>\n",
       "      <td>VIR</td>\n",
       "      <td>95.721</td>\n",
       "    </tr>\n",
       "    <tr>\n",
       "      <th>5855</th>\n",
       "      <td>2018</td>\n",
       "      <td>West Bank and Gaza</td>\n",
       "      <td>PSE</td>\n",
       "      <td>76.164</td>\n",
       "    </tr>\n",
       "    <tr>\n",
       "      <th>5856</th>\n",
       "      <td>2018</td>\n",
       "      <td>Yemen, Rep.</td>\n",
       "      <td>YEM</td>\n",
       "      <td>36.642</td>\n",
       "    </tr>\n",
       "    <tr>\n",
       "      <th>5857</th>\n",
       "      <td>2018</td>\n",
       "      <td>Zambia</td>\n",
       "      <td>ZMB</td>\n",
       "      <td>43.521</td>\n",
       "    </tr>\n",
       "    <tr>\n",
       "      <th>5858</th>\n",
       "      <td>2018</td>\n",
       "      <td>Zimbabwe</td>\n",
       "      <td>ZWE</td>\n",
       "      <td>32.209</td>\n",
       "    </tr>\n",
       "    <tr>\n",
       "      <th>5859</th>\n",
       "      <td>NaN</td>\n",
       "      <td>NaN</td>\n",
       "      <td>NaN</td>\n",
       "      <td>NaN</td>\n",
       "    </tr>\n",
       "    <tr>\n",
       "      <th>5860</th>\n",
       "      <td>NaN</td>\n",
       "      <td>NaN</td>\n",
       "      <td>NaN</td>\n",
       "      <td>NaN</td>\n",
       "    </tr>\n",
       "    <tr>\n",
       "      <th>5861</th>\n",
       "      <td>NaN</td>\n",
       "      <td>NaN</td>\n",
       "      <td>NaN</td>\n",
       "      <td>NaN</td>\n",
       "    </tr>\n",
       "    <tr>\n",
       "      <th>5862</th>\n",
       "      <td>Data from database: World Development Indicators</td>\n",
       "      <td>NaN</td>\n",
       "      <td>NaN</td>\n",
       "      <td>NaN</td>\n",
       "    </tr>\n",
       "    <tr>\n",
       "      <th>5863</th>\n",
       "      <td>Last Updated: 03/19/2021</td>\n",
       "      <td>NaN</td>\n",
       "      <td>NaN</td>\n",
       "      <td>NaN</td>\n",
       "    </tr>\n",
       "  </tbody>\n",
       "</table>\n",
       "</div>"
      ],
      "text/plain": [
       "                                                  year                country  \\\n",
       "5854                                              2018  Virgin Islands (U.S.)   \n",
       "5855                                              2018     West Bank and Gaza   \n",
       "5856                                              2018            Yemen, Rep.   \n",
       "5857                                              2018                 Zambia   \n",
       "5858                                              2018               Zimbabwe   \n",
       "5859                                               NaN                    NaN   \n",
       "5860                                               NaN                    NaN   \n",
       "5861                                               NaN                    NaN   \n",
       "5862  Data from database: World Development Indicators                    NaN   \n",
       "5863                          Last Updated: 03/19/2021                    NaN   \n",
       "\n",
       "     ccode  urbpop  \n",
       "5854   VIR  95.721  \n",
       "5855   PSE  76.164  \n",
       "5856   YEM  36.642  \n",
       "5857   ZMB  43.521  \n",
       "5858   ZWE  32.209  \n",
       "5859   NaN     NaN  \n",
       "5860   NaN     NaN  \n",
       "5861   NaN     NaN  \n",
       "5862   NaN     NaN  \n",
       "5863   NaN     NaN  "
      ]
     },
     "execution_count": 66,
     "metadata": {},
     "output_type": "execute_result"
    }
   ],
   "source": [
    "urban_population.tail(10)"
   ]
  },
  {
   "cell_type": "code",
   "execution_count": 67,
   "metadata": {},
   "outputs": [],
   "source": [
    "urban_population.drop(index=[5859,5860,5861,5862,5863],axis=0,inplace=True)"
   ]
  },
  {
   "cell_type": "code",
   "execution_count": 77,
   "metadata": {},
   "outputs": [
    {
     "data": {
      "text/html": [
       "<div>\n",
       "<style scoped>\n",
       "    .dataframe tbody tr th:only-of-type {\n",
       "        vertical-align: middle;\n",
       "    }\n",
       "\n",
       "    .dataframe tbody tr th {\n",
       "        vertical-align: top;\n",
       "    }\n",
       "\n",
       "    .dataframe thead th {\n",
       "        text-align: right;\n",
       "    }\n",
       "</style>\n",
       "<table border=\"1\" class=\"dataframe\">\n",
       "  <thead>\n",
       "    <tr style=\"text-align: right;\">\n",
       "      <th></th>\n",
       "      <th>year</th>\n",
       "      <th>country</th>\n",
       "      <th>ccode</th>\n",
       "      <th>urbpop</th>\n",
       "    </tr>\n",
       "  </thead>\n",
       "  <tbody>\n",
       "    <tr>\n",
       "      <th>5849</th>\n",
       "      <td>2018</td>\n",
       "      <td>Uruguay</td>\n",
       "      <td>URY</td>\n",
       "      <td>95.334</td>\n",
       "    </tr>\n",
       "    <tr>\n",
       "      <th>5850</th>\n",
       "      <td>2018</td>\n",
       "      <td>Uzbekistan</td>\n",
       "      <td>UZB</td>\n",
       "      <td>50.478</td>\n",
       "    </tr>\n",
       "    <tr>\n",
       "      <th>5851</th>\n",
       "      <td>2018</td>\n",
       "      <td>Vanuatu</td>\n",
       "      <td>VUT</td>\n",
       "      <td>25.274</td>\n",
       "    </tr>\n",
       "    <tr>\n",
       "      <th>5852</th>\n",
       "      <td>2018</td>\n",
       "      <td>Venezuela, RB</td>\n",
       "      <td>VEN</td>\n",
       "      <td>88.208</td>\n",
       "    </tr>\n",
       "    <tr>\n",
       "      <th>5853</th>\n",
       "      <td>2018</td>\n",
       "      <td>Vietnam</td>\n",
       "      <td>VNM</td>\n",
       "      <td>35.919</td>\n",
       "    </tr>\n",
       "    <tr>\n",
       "      <th>5854</th>\n",
       "      <td>2018</td>\n",
       "      <td>Virgin Islands (U.S.)</td>\n",
       "      <td>VIR</td>\n",
       "      <td>95.721</td>\n",
       "    </tr>\n",
       "    <tr>\n",
       "      <th>5855</th>\n",
       "      <td>2018</td>\n",
       "      <td>West Bank and Gaza</td>\n",
       "      <td>PSE</td>\n",
       "      <td>76.164</td>\n",
       "    </tr>\n",
       "    <tr>\n",
       "      <th>5856</th>\n",
       "      <td>2018</td>\n",
       "      <td>Yemen, Rep.</td>\n",
       "      <td>YEM</td>\n",
       "      <td>36.642</td>\n",
       "    </tr>\n",
       "    <tr>\n",
       "      <th>5857</th>\n",
       "      <td>2018</td>\n",
       "      <td>Zambia</td>\n",
       "      <td>ZMB</td>\n",
       "      <td>43.521</td>\n",
       "    </tr>\n",
       "    <tr>\n",
       "      <th>5858</th>\n",
       "      <td>2018</td>\n",
       "      <td>Zimbabwe</td>\n",
       "      <td>ZWE</td>\n",
       "      <td>32.209</td>\n",
       "    </tr>\n",
       "  </tbody>\n",
       "</table>\n",
       "</div>"
      ],
      "text/plain": [
       "      year                country ccode  urbpop\n",
       "5849  2018                Uruguay   URY  95.334\n",
       "5850  2018             Uzbekistan   UZB  50.478\n",
       "5851  2018                Vanuatu   VUT  25.274\n",
       "5852  2018          Venezuela, RB   VEN  88.208\n",
       "5853  2018                Vietnam   VNM  35.919\n",
       "5854  2018  Virgin Islands (U.S.)   VIR  95.721\n",
       "5855  2018     West Bank and Gaza   PSE  76.164\n",
       "5856  2018            Yemen, Rep.   YEM  36.642\n",
       "5857  2018                 Zambia   ZMB  43.521\n",
       "5858  2018               Zimbabwe   ZWE  32.209"
      ]
     },
     "execution_count": 77,
     "metadata": {},
     "output_type": "execute_result"
    }
   ],
   "source": [
    "urban_population.tail(10)"
   ]
  },
  {
   "cell_type": "code",
   "execution_count": 79,
   "metadata": {},
   "outputs": [
    {
     "data": {
      "text/html": [
       "<div>\n",
       "<style scoped>\n",
       "    .dataframe tbody tr th:only-of-type {\n",
       "        vertical-align: middle;\n",
       "    }\n",
       "\n",
       "    .dataframe tbody tr th {\n",
       "        vertical-align: top;\n",
       "    }\n",
       "\n",
       "    .dataframe thead th {\n",
       "        text-align: right;\n",
       "    }\n",
       "</style>\n",
       "<table border=\"1\" class=\"dataframe\">\n",
       "  <thead>\n",
       "    <tr style=\"text-align: right;\">\n",
       "      <th></th>\n",
       "      <th>country</th>\n",
       "      <th>ccode</th>\n",
       "      <th>year</th>\n",
       "      <th>incidents</th>\n",
       "    </tr>\n",
       "  </thead>\n",
       "  <tbody>\n",
       "    <tr>\n",
       "      <th>6458</th>\n",
       "      <td>Zimbabwe</td>\n",
       "      <td>ZWE</td>\n",
       "      <td>2008</td>\n",
       "      <td>34.054126</td>\n",
       "    </tr>\n",
       "    <tr>\n",
       "      <th>6459</th>\n",
       "      <td>Zimbabwe</td>\n",
       "      <td>ZWE</td>\n",
       "      <td>2009</td>\n",
       "      <td>33.574161</td>\n",
       "    </tr>\n",
       "    <tr>\n",
       "      <th>6460</th>\n",
       "      <td>Zimbabwe</td>\n",
       "      <td>ZWE</td>\n",
       "      <td>2010</td>\n",
       "      <td>32.618256</td>\n",
       "    </tr>\n",
       "    <tr>\n",
       "      <th>6461</th>\n",
       "      <td>Zimbabwe</td>\n",
       "      <td>ZWE</td>\n",
       "      <td>2011</td>\n",
       "      <td>31.095035</td>\n",
       "    </tr>\n",
       "    <tr>\n",
       "      <th>6462</th>\n",
       "      <td>Zimbabwe</td>\n",
       "      <td>ZWE</td>\n",
       "      <td>2012</td>\n",
       "      <td>29.621973</td>\n",
       "    </tr>\n",
       "    <tr>\n",
       "      <th>6463</th>\n",
       "      <td>Zimbabwe</td>\n",
       "      <td>ZWE</td>\n",
       "      <td>2013</td>\n",
       "      <td>28.430509</td>\n",
       "    </tr>\n",
       "    <tr>\n",
       "      <th>6464</th>\n",
       "      <td>Zimbabwe</td>\n",
       "      <td>ZWE</td>\n",
       "      <td>2014</td>\n",
       "      <td>27.365695</td>\n",
       "    </tr>\n",
       "    <tr>\n",
       "      <th>6465</th>\n",
       "      <td>Zimbabwe</td>\n",
       "      <td>ZWE</td>\n",
       "      <td>2015</td>\n",
       "      <td>26.684043</td>\n",
       "    </tr>\n",
       "    <tr>\n",
       "      <th>6466</th>\n",
       "      <td>Zimbabwe</td>\n",
       "      <td>ZWE</td>\n",
       "      <td>2016</td>\n",
       "      <td>26.051148</td>\n",
       "    </tr>\n",
       "    <tr>\n",
       "      <th>6467</th>\n",
       "      <td>Zimbabwe</td>\n",
       "      <td>ZWE</td>\n",
       "      <td>2017</td>\n",
       "      <td>25.377666</td>\n",
       "    </tr>\n",
       "  </tbody>\n",
       "</table>\n",
       "</div>"
      ],
      "text/plain": [
       "       country ccode  year  incidents\n",
       "6458  Zimbabwe   ZWE  2008  34.054126\n",
       "6459  Zimbabwe   ZWE  2009  33.574161\n",
       "6460  Zimbabwe   ZWE  2010  32.618256\n",
       "6461  Zimbabwe   ZWE  2011  31.095035\n",
       "6462  Zimbabwe   ZWE  2012  29.621973\n",
       "6463  Zimbabwe   ZWE  2013  28.430509\n",
       "6464  Zimbabwe   ZWE  2014  27.365695\n",
       "6465  Zimbabwe   ZWE  2015  26.684043\n",
       "6466  Zimbabwe   ZWE  2016  26.051148\n",
       "6467  Zimbabwe   ZWE  2017  25.377666"
      ]
     },
     "execution_count": 79,
     "metadata": {},
     "output_type": "execute_result"
    }
   ],
   "source": [
    "road_incidents.tail(10)"
   ]
  },
  {
   "cell_type": "code",
   "execution_count": 89,
   "metadata": {},
   "outputs": [
    {
     "data": {
      "text/plain": [
       "array([1990, 1991, 1992, 1993, 1994, 1995, 1996, 1997, 1998, 1999, 2000,\n",
       "       2001, 2002, 2003, 2004, 2005, 2006, 2007, 2008, 2009, 2010, 2011,\n",
       "       2012, 2013, 2014, 2015, 2016, 2017])"
      ]
     },
     "execution_count": 89,
     "metadata": {},
     "output_type": "execute_result"
    }
   ],
   "source": [
    "road_incidents.year.unique()"
   ]
  },
  {
   "cell_type": "code",
   "execution_count": 94,
   "metadata": {},
   "outputs": [
    {
     "data": {
      "text/plain": [
       "array(['1992', '1993', '1994', '1995', '1996', '1997', '1998', '1999',\n",
       "       '2000', '2001', '2002', '2003', '2004', '2005', '2006', '2007',\n",
       "       '2008', '2009', '2010', '2011', '2012', '2013', '2014', '2015',\n",
       "       '2016', '2017', '2018'], dtype=object)"
      ]
     },
     "execution_count": 94,
     "metadata": {},
     "output_type": "execute_result"
    }
   ],
   "source": [
    "urban_population.year.unique()"
   ]
  },
  {
   "cell_type": "code",
   "execution_count": 96,
   "metadata": {},
   "outputs": [],
   "source": [
    "urban_population = urban_population[urban_population.year != '2018']"
   ]
  },
  {
   "cell_type": "code",
   "execution_count": 97,
   "metadata": {},
   "outputs": [
    {
     "data": {
      "text/plain": [
       "array(['1992', '1993', '1994', '1995', '1996', '1997', '1998', '1999',\n",
       "       '2000', '2001', '2002', '2003', '2004', '2005', '2006', '2007',\n",
       "       '2008', '2009', '2010', '2011', '2012', '2013', '2014', '2015',\n",
       "       '2016', '2017'], dtype=object)"
      ]
     },
     "execution_count": 97,
     "metadata": {},
     "output_type": "execute_result"
    }
   ],
   "source": [
    "urban_population.year.unique()"
   ]
  },
  {
   "cell_type": "code",
   "execution_count": 108,
   "metadata": {},
   "outputs": [],
   "source": [
    "road_incidents = road_incidents[(road_incidents.year != 1990) & (road_incidents.year != 1991)]"
   ]
  },
  {
   "cell_type": "code",
   "execution_count": 109,
   "metadata": {},
   "outputs": [
    {
     "data": {
      "text/plain": [
       "array([1992, 1993, 1994, 1995, 1996, 1997, 1998, 1999, 2000, 2001, 2002,\n",
       "       2003, 2004, 2005, 2006, 2007, 2008, 2009, 2010, 2011, 2012, 2013,\n",
       "       2014, 2015, 2016, 2017])"
      ]
     },
     "execution_count": 109,
     "metadata": {},
     "output_type": "execute_result"
    }
   ],
   "source": [
    "road_incidents.year.unique()"
   ]
  },
  {
   "cell_type": "code",
   "execution_count": null,
   "metadata": {},
   "outputs": [],
   "source": [
    "#dealing with nan"
   ]
  },
  {
   "cell_type": "code",
   "execution_count": 119,
   "metadata": {},
   "outputs": [],
   "source": [
    "urban_population.replace('..',np.NaN,inplace=True)"
   ]
  },
  {
   "cell_type": "code",
   "execution_count": 125,
   "metadata": {},
   "outputs": [
    {
     "data": {
      "text/plain": [
       "year       0\n",
       "country    0\n",
       "ccode      0\n",
       "urbpop     0\n",
       "dtype: int64"
      ]
     },
     "execution_count": 125,
     "metadata": {},
     "output_type": "execute_result"
    }
   ],
   "source": [
    "urban_population.isnull().sum()"
   ]
  },
  {
   "cell_type": "code",
   "execution_count": 124,
   "metadata": {},
   "outputs": [
    {
     "data": {
      "text/html": [
       "<div>\n",
       "<style scoped>\n",
       "    .dataframe tbody tr th:only-of-type {\n",
       "        vertical-align: middle;\n",
       "    }\n",
       "\n",
       "    .dataframe tbody tr th {\n",
       "        vertical-align: top;\n",
       "    }\n",
       "\n",
       "    .dataframe thead th {\n",
       "        text-align: right;\n",
       "    }\n",
       "</style>\n",
       "<table border=\"1\" class=\"dataframe\">\n",
       "  <thead>\n",
       "    <tr style=\"text-align: right;\">\n",
       "      <th></th>\n",
       "      <th>year</th>\n",
       "      <th>ccode</th>\n",
       "      <th>urbpop</th>\n",
       "    </tr>\n",
       "    <tr>\n",
       "      <th>country</th>\n",
       "      <th></th>\n",
       "      <th></th>\n",
       "      <th></th>\n",
       "    </tr>\n",
       "  </thead>\n",
       "  <tbody>\n",
       "    <tr>\n",
       "      <th>Afghanistan</th>\n",
       "      <td>0</td>\n",
       "      <td>0</td>\n",
       "      <td>0</td>\n",
       "    </tr>\n",
       "    <tr>\n",
       "      <th>Namibia</th>\n",
       "      <td>0</td>\n",
       "      <td>0</td>\n",
       "      <td>0</td>\n",
       "    </tr>\n",
       "    <tr>\n",
       "      <th>Nepal</th>\n",
       "      <td>0</td>\n",
       "      <td>0</td>\n",
       "      <td>0</td>\n",
       "    </tr>\n",
       "    <tr>\n",
       "      <th>Netherlands</th>\n",
       "      <td>0</td>\n",
       "      <td>0</td>\n",
       "      <td>0</td>\n",
       "    </tr>\n",
       "    <tr>\n",
       "      <th>New Caledonia</th>\n",
       "      <td>0</td>\n",
       "      <td>0</td>\n",
       "      <td>0</td>\n",
       "    </tr>\n",
       "    <tr>\n",
       "      <th>New Zealand</th>\n",
       "      <td>0</td>\n",
       "      <td>0</td>\n",
       "      <td>0</td>\n",
       "    </tr>\n",
       "    <tr>\n",
       "      <th>Nicaragua</th>\n",
       "      <td>0</td>\n",
       "      <td>0</td>\n",
       "      <td>0</td>\n",
       "    </tr>\n",
       "    <tr>\n",
       "      <th>Niger</th>\n",
       "      <td>0</td>\n",
       "      <td>0</td>\n",
       "      <td>0</td>\n",
       "    </tr>\n",
       "    <tr>\n",
       "      <th>Nigeria</th>\n",
       "      <td>0</td>\n",
       "      <td>0</td>\n",
       "      <td>0</td>\n",
       "    </tr>\n",
       "    <tr>\n",
       "      <th>North Macedonia</th>\n",
       "      <td>0</td>\n",
       "      <td>0</td>\n",
       "      <td>0</td>\n",
       "    </tr>\n",
       "    <tr>\n",
       "      <th>Northern Mariana Islands</th>\n",
       "      <td>0</td>\n",
       "      <td>0</td>\n",
       "      <td>0</td>\n",
       "    </tr>\n",
       "    <tr>\n",
       "      <th>Norway</th>\n",
       "      <td>0</td>\n",
       "      <td>0</td>\n",
       "      <td>0</td>\n",
       "    </tr>\n",
       "    <tr>\n",
       "      <th>Oman</th>\n",
       "      <td>0</td>\n",
       "      <td>0</td>\n",
       "      <td>0</td>\n",
       "    </tr>\n",
       "    <tr>\n",
       "      <th>Pakistan</th>\n",
       "      <td>0</td>\n",
       "      <td>0</td>\n",
       "      <td>0</td>\n",
       "    </tr>\n",
       "    <tr>\n",
       "      <th>Palau</th>\n",
       "      <td>0</td>\n",
       "      <td>0</td>\n",
       "      <td>0</td>\n",
       "    </tr>\n",
       "    <tr>\n",
       "      <th>Panama</th>\n",
       "      <td>0</td>\n",
       "      <td>0</td>\n",
       "      <td>0</td>\n",
       "    </tr>\n",
       "    <tr>\n",
       "      <th>Papua New Guinea</th>\n",
       "      <td>0</td>\n",
       "      <td>0</td>\n",
       "      <td>0</td>\n",
       "    </tr>\n",
       "    <tr>\n",
       "      <th>Paraguay</th>\n",
       "      <td>0</td>\n",
       "      <td>0</td>\n",
       "      <td>0</td>\n",
       "    </tr>\n",
       "    <tr>\n",
       "      <th>Peru</th>\n",
       "      <td>0</td>\n",
       "      <td>0</td>\n",
       "      <td>0</td>\n",
       "    </tr>\n",
       "    <tr>\n",
       "      <th>Philippines</th>\n",
       "      <td>0</td>\n",
       "      <td>0</td>\n",
       "      <td>0</td>\n",
       "    </tr>\n",
       "  </tbody>\n",
       "</table>\n",
       "</div>"
      ],
      "text/plain": [
       "                          year  ccode  urbpop\n",
       "country                                      \n",
       "Afghanistan                  0      0       0\n",
       "Namibia                      0      0       0\n",
       "Nepal                        0      0       0\n",
       "Netherlands                  0      0       0\n",
       "New Caledonia                0      0       0\n",
       "New Zealand                  0      0       0\n",
       "Nicaragua                    0      0       0\n",
       "Niger                        0      0       0\n",
       "Nigeria                      0      0       0\n",
       "North Macedonia              0      0       0\n",
       "Northern Mariana Islands     0      0       0\n",
       "Norway                       0      0       0\n",
       "Oman                         0      0       0\n",
       "Pakistan                     0      0       0\n",
       "Palau                        0      0       0\n",
       "Panama                       0      0       0\n",
       "Papua New Guinea             0      0       0\n",
       "Paraguay                     0      0       0\n",
       "Peru                         0      0       0\n",
       "Philippines                  0      0       0"
      ]
     },
     "execution_count": 124,
     "metadata": {},
     "output_type": "execute_result"
    }
   ],
   "source": [
    "urban_population.groupby('country').agg(lambda x: x.isnull().sum()).sort_values(['urbpop'],ascending=False).head(20)"
   ]
  },
  {
   "cell_type": "code",
   "execution_count": 123,
   "metadata": {},
   "outputs": [],
   "source": [
    "#dropping Kosovo, St Martin and Eritrea\n",
    "cond1=urban_population.country != 'Kosovo'\n",
    "cond2=urban_population.country != 'St. Martin (French part)'\n",
    "cond3=urban_population.country != 'Eritrea'\n",
    "condition=cond1 & cond2 & cond3\n",
    "urban_population = urban_population[condition]"
   ]
  },
  {
   "cell_type": "code",
   "execution_count": 126,
   "metadata": {},
   "outputs": [],
   "source": [
    "urban_population.year=pd.to_numeric(urban_population.year)\n",
    "urban_population.urbpop=pd.to_numeric(urban_population.urbpop)"
   ]
  },
  {
   "cell_type": "code",
   "execution_count": 127,
   "metadata": {},
   "outputs": [
    {
     "name": "stdout",
     "output_type": "stream",
     "text": [
      "year <class 'numpy.int64'>\n",
      "country <class 'str'>\n",
      "ccode <class 'str'>\n",
      "urbpop <class 'numpy.float64'>\n"
     ]
    }
   ],
   "source": [
    "for i in urban_population.columns:\n",
    "    print(i,type(urban_population.loc[1,i]))"
   ]
  },
  {
   "cell_type": "code",
   "execution_count": 146,
   "metadata": {},
   "outputs": [],
   "source": [
    "road_incidents.replace('..',np.NaN,inplace=True)"
   ]
  },
  {
   "cell_type": "code",
   "execution_count": 147,
   "metadata": {},
   "outputs": [
    {
     "name": "stdout",
     "output_type": "stream",
     "text": [
      "country <class 'str'>\n",
      "ccode <class 'str'>\n",
      "year <class 'numpy.int64'>\n",
      "incidents <class 'numpy.float64'>\n"
     ]
    }
   ],
   "source": [
    "for i in road_incidents.columns:\n",
    "    print(i,type(road_incidents.loc[2,i]))"
   ]
  },
  {
   "cell_type": "code",
   "execution_count": 145,
   "metadata": {},
   "outputs": [
    {
     "data": {
      "text/plain": [
       "country        0\n",
       "ccode        910\n",
       "year           0\n",
       "incidents      0\n",
       "dtype: int64"
      ]
     },
     "execution_count": 145,
     "metadata": {},
     "output_type": "execute_result"
    }
   ],
   "source": [
    "road_incidents.isnull().sum()"
   ]
  },
  {
   "cell_type": "code",
   "execution_count": 149,
   "metadata": {},
   "outputs": [
    {
     "data": {
      "text/html": [
       "<div>\n",
       "<style scoped>\n",
       "    .dataframe tbody tr th:only-of-type {\n",
       "        vertical-align: middle;\n",
       "    }\n",
       "\n",
       "    .dataframe tbody tr th {\n",
       "        vertical-align: top;\n",
       "    }\n",
       "\n",
       "    .dataframe thead th {\n",
       "        text-align: right;\n",
       "    }\n",
       "</style>\n",
       "<table border=\"1\" class=\"dataframe\">\n",
       "  <thead>\n",
       "    <tr style=\"text-align: right;\">\n",
       "      <th></th>\n",
       "      <th>ccode</th>\n",
       "      <th>year</th>\n",
       "      <th>incidents</th>\n",
       "    </tr>\n",
       "    <tr>\n",
       "      <th>country</th>\n",
       "      <th></th>\n",
       "      <th></th>\n",
       "      <th></th>\n",
       "    </tr>\n",
       "  </thead>\n",
       "  <tbody>\n",
       "    <tr>\n",
       "      <th>Eastern Sub-Saharan Africa</th>\n",
       "      <td>26</td>\n",
       "      <td>0</td>\n",
       "      <td>0.0</td>\n",
       "    </tr>\n",
       "    <tr>\n",
       "      <th>North Africa and Middle East</th>\n",
       "      <td>26</td>\n",
       "      <td>0</td>\n",
       "      <td>0.0</td>\n",
       "    </tr>\n",
       "    <tr>\n",
       "      <th>Northern Ireland</th>\n",
       "      <td>26</td>\n",
       "      <td>0</td>\n",
       "      <td>0.0</td>\n",
       "    </tr>\n",
       "    <tr>\n",
       "      <th>Central Asia</th>\n",
       "      <td>26</td>\n",
       "      <td>0</td>\n",
       "      <td>0.0</td>\n",
       "    </tr>\n",
       "    <tr>\n",
       "      <th>Central Europe</th>\n",
       "      <td>26</td>\n",
       "      <td>0</td>\n",
       "      <td>0.0</td>\n",
       "    </tr>\n",
       "    <tr>\n",
       "      <th>Central Europe, Eastern Europe, and Central Asia</th>\n",
       "      <td>26</td>\n",
       "      <td>0</td>\n",
       "      <td>0.0</td>\n",
       "    </tr>\n",
       "    <tr>\n",
       "      <th>Central Latin America</th>\n",
       "      <td>26</td>\n",
       "      <td>0</td>\n",
       "      <td>0.0</td>\n",
       "    </tr>\n",
       "    <tr>\n",
       "      <th>Central Sub-Saharan Africa</th>\n",
       "      <td>26</td>\n",
       "      <td>0</td>\n",
       "      <td>0.0</td>\n",
       "    </tr>\n",
       "    <tr>\n",
       "      <th>Sub-Saharan Africa</th>\n",
       "      <td>26</td>\n",
       "      <td>0</td>\n",
       "      <td>0.0</td>\n",
       "    </tr>\n",
       "    <tr>\n",
       "      <th>Oceania</th>\n",
       "      <td>26</td>\n",
       "      <td>0</td>\n",
       "      <td>0.0</td>\n",
       "    </tr>\n",
       "    <tr>\n",
       "      <th>High-middle SDI</th>\n",
       "      <td>26</td>\n",
       "      <td>0</td>\n",
       "      <td>0.0</td>\n",
       "    </tr>\n",
       "    <tr>\n",
       "      <th>Southern Sub-Saharan Africa</th>\n",
       "      <td>26</td>\n",
       "      <td>0</td>\n",
       "      <td>0.0</td>\n",
       "    </tr>\n",
       "    <tr>\n",
       "      <th>Southern Latin America</th>\n",
       "      <td>26</td>\n",
       "      <td>0</td>\n",
       "      <td>0.0</td>\n",
       "    </tr>\n",
       "    <tr>\n",
       "      <th>Southeast Asia, East Asia, and Oceania</th>\n",
       "      <td>26</td>\n",
       "      <td>0</td>\n",
       "      <td>0.0</td>\n",
       "    </tr>\n",
       "    <tr>\n",
       "      <th>Southeast Asia</th>\n",
       "      <td>26</td>\n",
       "      <td>0</td>\n",
       "      <td>0.0</td>\n",
       "    </tr>\n",
       "    <tr>\n",
       "      <th>High-income Asia Pacific</th>\n",
       "      <td>26</td>\n",
       "      <td>0</td>\n",
       "      <td>0.0</td>\n",
       "    </tr>\n",
       "    <tr>\n",
       "      <th>High-income</th>\n",
       "      <td>26</td>\n",
       "      <td>0</td>\n",
       "      <td>0.0</td>\n",
       "    </tr>\n",
       "    <tr>\n",
       "      <th>South Asia</th>\n",
       "      <td>26</td>\n",
       "      <td>0</td>\n",
       "      <td>0.0</td>\n",
       "    </tr>\n",
       "    <tr>\n",
       "      <th>High SDI</th>\n",
       "      <td>26</td>\n",
       "      <td>0</td>\n",
       "      <td>0.0</td>\n",
       "    </tr>\n",
       "    <tr>\n",
       "      <th>East Asia</th>\n",
       "      <td>26</td>\n",
       "      <td>0</td>\n",
       "      <td>0.0</td>\n",
       "    </tr>\n",
       "  </tbody>\n",
       "</table>\n",
       "</div>"
      ],
      "text/plain": [
       "                                                  ccode  year  incidents\n",
       "country                                                                 \n",
       "Eastern Sub-Saharan Africa                           26     0        0.0\n",
       "North Africa and Middle East                         26     0        0.0\n",
       "Northern Ireland                                     26     0        0.0\n",
       "Central Asia                                         26     0        0.0\n",
       "Central Europe                                       26     0        0.0\n",
       "Central Europe, Eastern Europe, and Central Asia     26     0        0.0\n",
       "Central Latin America                                26     0        0.0\n",
       "Central Sub-Saharan Africa                           26     0        0.0\n",
       "Sub-Saharan Africa                                   26     0        0.0\n",
       "Oceania                                              26     0        0.0\n",
       "High-middle SDI                                      26     0        0.0\n",
       "Southern Sub-Saharan Africa                          26     0        0.0\n",
       "Southern Latin America                               26     0        0.0\n",
       "Southeast Asia, East Asia, and Oceania               26     0        0.0\n",
       "Southeast Asia                                       26     0        0.0\n",
       "High-income Asia Pacific                             26     0        0.0\n",
       "High-income                                          26     0        0.0\n",
       "South Asia                                           26     0        0.0\n",
       "High SDI                                             26     0        0.0\n",
       "East Asia                                            26     0        0.0"
      ]
     },
     "execution_count": 149,
     "metadata": {},
     "output_type": "execute_result"
    }
   ],
   "source": [
    "road_incidents.groupby('country').agg(lambda x: x.isnull().sum()).sort_values(['ccode'],ascending=False).head(20)"
   ]
  },
  {
   "cell_type": "code",
   "execution_count": 150,
   "metadata": {},
   "outputs": [],
   "source": [
    "frames=[urban_population,road_incidents]\n",
    "data=pd.merge(urban_population,road_incidents,on=['ccode','year'],how='inner')"
   ]
  },
  {
   "cell_type": "code",
   "execution_count": 157,
   "metadata": {},
   "outputs": [
    {
     "data": {
      "text/html": [
       "<div>\n",
       "<style scoped>\n",
       "    .dataframe tbody tr th:only-of-type {\n",
       "        vertical-align: middle;\n",
       "    }\n",
       "\n",
       "    .dataframe tbody tr th {\n",
       "        vertical-align: top;\n",
       "    }\n",
       "\n",
       "    .dataframe thead th {\n",
       "        text-align: right;\n",
       "    }\n",
       "</style>\n",
       "<table border=\"1\" class=\"dataframe\">\n",
       "  <thead>\n",
       "    <tr style=\"text-align: right;\">\n",
       "      <th></th>\n",
       "      <th>year</th>\n",
       "      <th>country_x</th>\n",
       "      <th>ccode</th>\n",
       "      <th>urbpop</th>\n",
       "      <th>country_y</th>\n",
       "      <th>incidents</th>\n",
       "    </tr>\n",
       "  </thead>\n",
       "  <tbody>\n",
       "    <tr>\n",
       "      <th>0</th>\n",
       "      <td>1992</td>\n",
       "      <td>Afghanistan</td>\n",
       "      <td>AFG</td>\n",
       "      <td>21.355</td>\n",
       "      <td>Afghanistan</td>\n",
       "      <td>52.484181</td>\n",
       "    </tr>\n",
       "    <tr>\n",
       "      <th>1</th>\n",
       "      <td>1992</td>\n",
       "      <td>Albania</td>\n",
       "      <td>ALB</td>\n",
       "      <td>37.249</td>\n",
       "      <td>Albania</td>\n",
       "      <td>12.885809</td>\n",
       "    </tr>\n",
       "    <tr>\n",
       "      <th>2</th>\n",
       "      <td>1992</td>\n",
       "      <td>Algeria</td>\n",
       "      <td>DZA</td>\n",
       "      <td>53.657</td>\n",
       "      <td>Algeria</td>\n",
       "      <td>33.742905</td>\n",
       "    </tr>\n",
       "    <tr>\n",
       "      <th>3</th>\n",
       "      <td>1992</td>\n",
       "      <td>American Samoa</td>\n",
       "      <td>ASM</td>\n",
       "      <td>82.789</td>\n",
       "      <td>American Samoa</td>\n",
       "      <td>11.941988</td>\n",
       "    </tr>\n",
       "    <tr>\n",
       "      <th>4</th>\n",
       "      <td>1992</td>\n",
       "      <td>Andorra</td>\n",
       "      <td>AND</td>\n",
       "      <td>94.324</td>\n",
       "      <td>Andorra</td>\n",
       "      <td>8.722674</td>\n",
       "    </tr>\n",
       "  </tbody>\n",
       "</table>\n",
       "</div>"
      ],
      "text/plain": [
       "   year       country_x ccode  urbpop       country_y  incidents\n",
       "0  1992     Afghanistan   AFG  21.355     Afghanistan  52.484181\n",
       "1  1992         Albania   ALB  37.249         Albania  12.885809\n",
       "2  1992         Algeria   DZA  53.657         Algeria  33.742905\n",
       "3  1992  American Samoa   ASM  82.789  American Samoa  11.941988\n",
       "4  1992         Andorra   AND  94.324         Andorra   8.722674"
      ]
     },
     "execution_count": 157,
     "metadata": {},
     "output_type": "execute_result"
    }
   ],
   "source": [
    "data.head()"
   ]
  },
  {
   "cell_type": "code",
   "execution_count": 158,
   "metadata": {},
   "outputs": [],
   "source": [
    "data.drop(columns='country_y',inplace=True,axis=1)"
   ]
  },
  {
   "cell_type": "code",
   "execution_count": 159,
   "metadata": {},
   "outputs": [],
   "source": [
    "cols = {'country_x':'country'}\n",
    "data.rename(columns=cols, inplace=True)"
   ]
  },
  {
   "cell_type": "code",
   "execution_count": 160,
   "metadata": {},
   "outputs": [
    {
     "data": {
      "text/html": [
       "<div>\n",
       "<style scoped>\n",
       "    .dataframe tbody tr th:only-of-type {\n",
       "        vertical-align: middle;\n",
       "    }\n",
       "\n",
       "    .dataframe tbody tr th {\n",
       "        vertical-align: top;\n",
       "    }\n",
       "\n",
       "    .dataframe thead th {\n",
       "        text-align: right;\n",
       "    }\n",
       "</style>\n",
       "<table border=\"1\" class=\"dataframe\">\n",
       "  <thead>\n",
       "    <tr style=\"text-align: right;\">\n",
       "      <th></th>\n",
       "      <th>year</th>\n",
       "      <th>country</th>\n",
       "      <th>ccode</th>\n",
       "      <th>urbpop</th>\n",
       "      <th>incidents</th>\n",
       "    </tr>\n",
       "  </thead>\n",
       "  <tbody>\n",
       "    <tr>\n",
       "      <th>5013</th>\n",
       "      <td>2017</td>\n",
       "      <td>Virgin Islands (U.S.)</td>\n",
       "      <td>VIR</td>\n",
       "      <td>95.603</td>\n",
       "      <td>11.166470</td>\n",
       "    </tr>\n",
       "    <tr>\n",
       "      <th>5014</th>\n",
       "      <td>2017</td>\n",
       "      <td>West Bank and Gaza</td>\n",
       "      <td>PSE</td>\n",
       "      <td>75.894</td>\n",
       "      <td>8.547896</td>\n",
       "    </tr>\n",
       "    <tr>\n",
       "      <th>5015</th>\n",
       "      <td>2017</td>\n",
       "      <td>Yemen, Rep.</td>\n",
       "      <td>YEM</td>\n",
       "      <td>36.016</td>\n",
       "      <td>38.422872</td>\n",
       "    </tr>\n",
       "    <tr>\n",
       "      <th>5016</th>\n",
       "      <td>2017</td>\n",
       "      <td>Zambia</td>\n",
       "      <td>ZMB</td>\n",
       "      <td>42.976</td>\n",
       "      <td>19.812104</td>\n",
       "    </tr>\n",
       "    <tr>\n",
       "      <th>5017</th>\n",
       "      <td>2017</td>\n",
       "      <td>Zimbabwe</td>\n",
       "      <td>ZWE</td>\n",
       "      <td>32.237</td>\n",
       "      <td>25.377666</td>\n",
       "    </tr>\n",
       "  </tbody>\n",
       "</table>\n",
       "</div>"
      ],
      "text/plain": [
       "      year                country ccode  urbpop  incidents\n",
       "5013  2017  Virgin Islands (U.S.)   VIR  95.603  11.166470\n",
       "5014  2017     West Bank and Gaza   PSE  75.894   8.547896\n",
       "5015  2017            Yemen, Rep.   YEM  36.016  38.422872\n",
       "5016  2017                 Zambia   ZMB  42.976  19.812104\n",
       "5017  2017               Zimbabwe   ZWE  32.237  25.377666"
      ]
     },
     "execution_count": 160,
     "metadata": {},
     "output_type": "execute_result"
    }
   ],
   "source": [
    "data.tail()"
   ]
  },
  {
   "cell_type": "code",
   "execution_count": null,
   "metadata": {},
   "outputs": [],
   "source": []
  }
 ],
 "metadata": {
  "kernelspec": {
   "display_name": "Python 3",
   "language": "python",
   "name": "python3"
  },
  "language_info": {
   "codemirror_mode": {
    "name": "ipython",
    "version": 3
   },
   "file_extension": ".py",
   "mimetype": "text/x-python",
   "name": "python",
   "nbconvert_exporter": "python",
   "pygments_lexer": "ipython3",
   "version": "3.8.3"
  }
 },
 "nbformat": 4,
 "nbformat_minor": 4
}
